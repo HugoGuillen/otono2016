{
 "cells": [
  {
   "cell_type": "markdown",
   "metadata": {},
   "source": [
    "# Sección 2: BioPython\n",
    "## Prerrequisitos:\n",
    "- Jupyter notebook http://jupyter.org/\n",
    " - Docs https://jupyter.readthedocs.io/en/latest/\n",
    "- Biopython http://biopython.org/wiki/Biopython\n",
    " - Docs http://biopython.org/DIST/docs/tutorial/Tutorial.pdf , http://biopython.org/wiki/Documentation\n",
    "- Datos de hairpins de miRNA de miRBase http://www.mirbase.org/ftp.shtml"
   ]
  },
  {
   "cell_type": "markdown",
   "metadata": {},
   "source": [
    "## Verificar instalación de biopython"
   ]
  },
  {
   "cell_type": "code",
   "execution_count": 1,
   "metadata": {
    "collapsed": false
   },
   "outputs": [
    {
     "name": "stdout",
     "output_type": "stream",
     "text": [
      "1.67\n"
     ]
    }
   ],
   "source": [
    "import Bio\n",
    "print(Bio.__version__)"
   ]
  },
  {
   "cell_type": "markdown",
   "metadata": {},
   "source": [
    "## Creando una secuencia"
   ]
  },
  {
   "cell_type": "code",
   "execution_count": 74,
   "metadata": {
    "collapsed": false
   },
   "outputs": [
    {
     "data": {
      "text/plain": [
       "Seq('UGGGAUGAGGUAGUAGGUUGUAUAGUUUUAGGGUCACACCCACCACUGGGAGAU...CUA', Alphabet())"
      ]
     },
     "execution_count": 74,
     "metadata": {},
     "output_type": "execute_result"
    }
   ],
   "source": [
    "#http://biopython.org/wiki/Seq\n",
    "from Bio.Seq import Seq\n",
    "myseq = Seq('UGGGAUGAGGUAGUAGGUUGUAUAGUUUUAGGGUCACACCCACCACUGGGAGAUAACUAUACAAUCUACUGUCUUUCCUA')\n",
    "myseq"
   ]
  },
  {
   "cell_type": "markdown",
   "metadata": {},
   "source": [
    "## Creando una secuencia con tipo"
   ]
  },
  {
   "cell_type": "code",
   "execution_count": 76,
   "metadata": {
    "collapsed": false
   },
   "outputs": [
    {
     "data": {
      "text/plain": [
       "Seq('UGGGAUGAGGUAGUAGGUUGUAUAGUUUUAGGGUCACACCCACCACUGGGAGAU...CUA', RNAAlphabet())"
      ]
     },
     "execution_count": 76,
     "metadata": {},
     "output_type": "execute_result"
    }
   ],
   "source": [
    "from Bio.Seq import Seq\n",
    "from Bio.Alphabet import generic_rna\n",
    "myseq = Seq('UGGGAUGAGGUAGUAGGUUGUAUAGUUUUAGGGUCACACCCACCACUGGGAGAUAACUAUACAAUCUACUGUCUUUCCUA',generic_rna)\n",
    "myseq"
   ]
  },
  {
   "cell_type": "markdown",
   "metadata": {},
   "source": [
    "## Operaciones con secuencias"
   ]
  },
  {
   "cell_type": "code",
   "execution_count": 78,
   "metadata": {
    "collapsed": false
   },
   "outputs": [
    {
     "name": "stdout",
     "output_type": "stream",
     "text": [
      "UGGGAUGAGGUAGUAGGUUGUAUAGUUUUAGGGUCACACCCACCACUGGGAGAUAACUAUACAAUCUACUGUCUUUCCUA\n",
      "UAGGAAAGACAGUAGAUUGUAUAGUUAUCUCCCAGUGGUGGGUGUGACCCUAAAACUAUACAACCUACUACCUCAUCCCA\n",
      "ACCCUACUCCAUCAUCCAACAUAUCAAAAUCCCAGUGUGGGUGGUGACCCUCUAUUGAUAUGUUAGAUGACAGAAAGGAU\n",
      "TGGGATGAGGTAGTAGGTTGTATAGTTTTAGGGTCACACCCACCACTGGGAGATAACTATACAATCTACTGTCTTTCCTA\n",
      "WDEVVGCIVLGSHPPLGDNYTIYCLS\n",
      "9\n",
      "25\n"
     ]
    },
    {
     "name": "stderr",
     "output_type": "stream",
     "text": [
      "C:\\Anaconda3\\lib\\site-packages\\Bio\\Seq.py:2071: BiopythonWarning: Partial codon, len(sequence) not a multiple of three. Explicitly trim the sequence or add trailing N before translation. This may become an error in future.\n",
      "  BiopythonWarning)\n"
     ]
    }
   ],
   "source": [
    "print(myseq)\n",
    "print(myseq.reverse_complement())\n",
    "print(myseq.complement())\n",
    "print(myseq.back_transcribe())\n",
    "print(myseq.translate())\n",
    "print(myseq.find(\"GUAGUA\"))\n",
    "print(myseq.count(\"U\"))\n",
    "#print(myseq.transcribe())\n"
   ]
  },
  {
   "cell_type": "markdown",
   "metadata": {},
   "source": [
    "## Leyendo archivos fasta con Biopython"
   ]
  },
  {
   "cell_type": "code",
   "execution_count": 40,
   "metadata": {
    "collapsed": false
   },
   "outputs": [
    {
     "name": "stdout",
     "output_type": "stream",
     "text": [
      "There were 3 records in file seqs/hairpin_mini.fa\n"
     ]
    }
   ],
   "source": [
    "#http://biopython.org/wiki/SeqIO\n",
    "\n",
    "from Bio import SeqIO\n",
    "filename = 'seqs/hairpin_mini.fa'\n",
    "count = 0\n",
    "for record in SeqIO.parse(filename, \"fasta\"):\n",
    "    count = count + 1\n",
    "print(\"There were \" + str(count) + \" records in file \" + filename)"
   ]
  },
  {
   "cell_type": "code",
   "execution_count": 45,
   "metadata": {
    "collapsed": false
   },
   "outputs": [
    {
     "name": "stdout",
     "output_type": "stream",
     "text": [
      "ID: cel-let-7\n",
      "Name: cel-let-7\n",
      "Description: cel-let-7 MI0000001 Caenorhabditis elegans let-7 stem-loop\n",
      "Number of features: 0\n",
      "Seq('UACACUGUGGAUCCGGUGAGGUAGUAGGUUGUAUAGUUUGGAAUAUUACCACCG...CGA', SingleLetterAlphabet())\n",
      "99nt\n",
      "ID: cel-lin-4\n",
      "Name: cel-lin-4\n",
      "Description: cel-lin-4 MI0000002 Caenorhabditis elegans lin-4 stem-loop\n",
      "Number of features: 0\n",
      "Seq('AUGCUUCCGGCCUGUUCCCUGAGACCUCAAGUGUGAGUGUACUAUUGAUGCUUC...GAU', SingleLetterAlphabet())\n",
      "94nt\n",
      "ID: cel-mir-1\n",
      "Name: cel-mir-1\n",
      "Description: cel-mir-1 MI0000003 Caenorhabditis elegans miR-1 stem-loop\n",
      "Number of features: 0\n",
      "Seq('AAAGUGACCGUACCGAGCUGCAUACUUCCUUACAUGCCCAUACUAUAUCAUAAA...AGU', SingleLetterAlphabet())\n",
      "96nt\n"
     ]
    }
   ],
   "source": [
    "from Bio import SeqIO\n",
    "filename = 'seqs/hairpin_mini.fa'\n",
    "count = 0\n",
    "for record in SeqIO.parse(filename, \"fasta\"):\n",
    "    print(record)\n",
    "    print(str(len(record.seq))+\"nt\")"
   ]
  },
  {
   "cell_type": "code",
   "execution_count": 58,
   "metadata": {
    "collapsed": true
   },
   "outputs": [],
   "source": [
    "#Extraer especie\n",
    "def get_mirbase_record_species(record):\n",
    "    #print(record.description.split())\n",
    "    return \" \".join(record.description.split()[2:4])"
   ]
  },
  {
   "cell_type": "code",
   "execution_count": 62,
   "metadata": {
    "collapsed": false
   },
   "outputs": [
    {
     "name": "stdout",
     "output_type": "stream",
     "text": [
      "ID: cel-let-7\n",
      "Name: cel-let-7\n",
      "Description: cel-let-7 MI0000001 Caenorhabditis elegans let-7 stem-loop\n",
      "Number of features: 0\n",
      "Seq('UACACUGUGGAUCCGGUGAGGUAGUAGGUUGUAUAGUUUGGAAUAUUACCACCG...CGA', SingleLetterAlphabet())\n",
      "Species: Caenorhabditis elegans\n",
      "99nt\n",
      "GC: 99\n",
      "ID: cel-lin-4\n",
      "Name: cel-lin-4\n",
      "Description: cel-lin-4 MI0000002 Caenorhabditis elegans lin-4 stem-loop\n",
      "Number of features: 0\n",
      "Seq('AUGCUUCCGGCCUGUUCCCUGAGACCUCAAGUGUGAGUGUACUAUUGAUGCUUC...GAU', SingleLetterAlphabet())\n",
      "Species: Caenorhabditis elegans\n",
      "94nt\n",
      "GC: 94\n",
      "ID: cel-mir-1\n",
      "Name: cel-mir-1\n",
      "Description: cel-mir-1 MI0000003 Caenorhabditis elegans miR-1 stem-loop\n",
      "Number of features: 0\n",
      "Seq('AAAGUGACCGUACCGAGCUGCAUACUUCCUUACAUGCCCAUACUAUAUCAUAAA...AGU', SingleLetterAlphabet())\n",
      "Species: Caenorhabditis elegans\n",
      "96nt\n",
      "GC: 96\n"
     ]
    }
   ],
   "source": [
    "from Bio import SeqIO\n",
    "filename = 'seqs/hairpin_mini.fa'\n",
    "for record in SeqIO.parse(filename, \"fasta\"):\n",
    "    print(record)\n",
    "    print(\"Species: \"+get_mirbase_record_species(record))\n",
    "    print(str(len(record.seq))+\"nt\")\n",
    "    print(\"GC: \"+str(len(record.seq)))"
   ]
  },
  {
   "cell_type": "markdown",
   "metadata": {},
   "source": [
    "## SeqUtils"
   ]
  },
  {
   "cell_type": "code",
   "execution_count": 79,
   "metadata": {
    "collapsed": true
   },
   "outputs": [],
   "source": [
    "#http://biopython.org/DIST/docs/api/Bio.SeqUtils-module.html#molecular_weight\n",
    "from Bio import SeqUtils"
   ]
  },
  {
   "cell_type": "code",
   "execution_count": 80,
   "metadata": {
    "collapsed": false
   },
   "outputs": [
    {
     "name": "stdout",
     "output_type": "stream",
     "text": [
      "cel-let-7\n",
      "GC: 43.43434343434343\n",
      "Molecular Weight: 30682.576100000017\n",
      "GC_Frame: a:26 t:0 g:24 c:19 \n",
      "Sequence: uacacugugg ... aacucuucga, 99 nt, 43.43 %GC\n",
      "\n",
      "\n",
      "1/1\n",
      "  H  C  G  S  G  E  V  V  G  C  I  V  W  N  I  T  T  G  E  L\n",
      " T  L  W  I  R  *  G  S  R  L  Y  S  L  E  Y  Y  H  R  *  T\n",
      "Y  T  V  D  P  V  R  *  *  V  V  *  F  G  I  L  P  P  V  N\n",
      "uacacuguggauccggugagguaguagguuguauaguuuggaauauuaccaccggugaac   45 %\n",
      "augugacaccuaggccacuccaucauccaacauaucaaaccuuauaaugguggccacuug\n",
      "V  T  S  G  T  L  Y  Y  T  T  Y  N  P  I  N  G  G  T  F  * \n",
      " V  S  H  I  R  H  P  L  L  N  Y  L  K  S  Y  *  W  R  H  V\n",
      "  C  Q  P  D  P  S  T  T  P  Q  I  T  Q  F  I  V  V  P  S  S\n",
      "\n",
      "61/21\n",
      "  C  N  F  L  P  Y  R  R  Q  N  S  S\n",
      " M  Q  F  S  T  L  P  E  T  E  L  F\n",
      "Y  A  I  F  Y  L  T  G  D  R  T  L  R\n",
      "uaugcaauuuucuaccuuaccggagacagaacucuucga   41 %\n",
      "auacguuaaaagauggaauggccucugucuugagaagcu\n",
      "A  I  K  *  R  V  P  S  L  V  R  R \n",
      " I  C  N  E  V  K  G  S  V  S  S  K  S\n",
      "  H  L  K  R  G  *  R  L  C  F  E  E\n",
      "\n",
      "\n",
      "cel-lin-4\n",
      "GC: 54.255319148936174\n",
      "Molecular Weight: 29040.447400000015\n",
      "GC_Frame: a:17 t:0 g:26 c:25 \n",
      "Sequence: augcuuccgg ... uugagcagau, 94 nt, 54.26 %GC\n",
      "\n",
      "\n",
      "1/1\n",
      "  A  S  G  L  F  P  E  T  S  S  V  S  V  L  L  M  L  H  T  W\n",
      " C  F  R  P  V  P  *  D  L  K  C  E  C  T  I  D  A  S  H  L\n",
      "M  L  P  A  C  S  L  R  P  Q  V  *  V  Y  Y  *  C  F  T  P\n",
      "augcuuccggccuguucccugagaccucaagugugaguguacuauugaugcuucacaccu   50 %\n",
      "uacgaaggccggacaagggacucuggaguucacacucacaugauaacuacgaagugugga\n",
      "H  K  R  G  T  G  Q  S  R  L  H  S  H  V  I  S  A  E  C  R \n",
      " A  E  P  R  N  G  S  V  E  L  T  L  T  S  N  I  S  *  V  Q\n",
      "  S  G  A  Q  E  R  L  G  *  T  H  T  Y  *  Q  H  K  V  G  P\n",
      "\n",
      "61/21\n",
      "  A  L  R  V  P  G  R  F  E  Q\n",
      " G  S  P  G  T  R  T  V  *  A  D\n",
      "G  L  S  G  Y  Q  D  G  L  S  R\n",
      "gggcucuccggguaccaggacgguuugagcagau   61 %\n",
      "cccgagaggcccaugguccugccaaacucgucua\n",
      "P  E  G  P  V  L  V  T  Q  A  S \n",
      " A  R  R  T  G  P  R  N  S  C  I\n",
      "  S  E  P  Y  W  S  P  K  L  L\n",
      "\n",
      "\n",
      "cel-mir-1\n",
      "GC: 40.625\n",
      "Molecular Weight: 29844.097799999992\n",
      "GC_Frame: a:32 t:0 g:23 c:16 \n",
      "Sequence: aaagugaccg ... gggugguagu, 96 nt, 40.62 %GC\n",
      "\n",
      "\n",
      "1/1\n",
      "  S  D  R  T  E  L  H  T  S  L  H  A  H  T  I  S  *  M  D  M\n",
      " K  *  P  Y  R  A  A  Y  F  L  T  C  P  Y  Y  I  I  N  G  Y\n",
      "K  V  T  V  P  S  C  I  L  P  Y  M  P  I  L  Y  H  K  W  I\n",
      "aaagugaccguaccgagcugcauacuuccuuacaugcccauacuauaucauaaauggaua   40 %\n",
      "uuucacuggcauggcucgacguaugaaggaauguacggguaugauauaguauuuaccuau\n",
      "T  V  T  G  L  Q  M  S  G  *  M  G  M  S  Y  *  L  H  I  H \n",
      " F  H  G  Y  R  A  A  Y  K  R  V  H  G  Y  *  I  M  F  P  Y\n",
      "  L  S  R  V  S  S  C  V  E  K  C  A  W  V  I  D  Y  I  S  I\n",
      "\n",
      "61/21\n",
      "  E  C  K  E  V  C  R  T  G  W  *\n",
      " G  M  *  R  S  M  *  N  G  V  V\n",
      "W  N  V  K  K  Y  V  E  R  G  G  S\n",
      "uggaauguaaagaaguauguagaacggggugguagu   41 %\n",
      "accuuacauuucuucauacaucuugccccaccauca\n",
      "F  T  F  F  Y  T  S  R  P  P  L \n",
      " P  I  Y  L  L  I  Y  F  P  T  T  T\n",
      "  S  H  L  S  T  H  L  V  P  H  Y\n",
      "\n",
      "\n"
     ]
    }
   ],
   "source": [
    "filename = 'seqs/hairpin_mini.fa'\n",
    "for record in SeqIO.parse(filename, \"fasta\"):\n",
    "    print(record.id)\n",
    "    print(\"GC:\",SeqUtils.GC(record.seq))\n",
    "    print(\"Molecular Weight:\",SeqUtils.molecular_weight(record.seq.back_transcribe()))\n",
    "    print(SeqUtils.six_frame_translations(record.seq))"
   ]
  },
  {
   "cell_type": "markdown",
   "metadata": {},
   "source": [
    "# Actividad: Histograma de longitudes"
   ]
  },
  {
   "cell_type": "code",
   "execution_count": 1,
   "metadata": {
    "collapsed": false
   },
   "outputs": [
    {
     "name": "stdout",
     "output_type": "stream",
     "text": [
      "39 2354\n"
     ]
    }
   ],
   "source": [
    "from Bio import SeqIO\n",
    "import matplotlib.pyplot as plt\n",
    "plt.style.use('ggplot')\n",
    "\n",
    "filename = 'seqs/hairpin.fa'\n",
    "lengths=[]\n",
    "for record in SeqIO.parse(filename, \"fasta\"):\n",
    "    lengths.append(len(str(record.seq)))\n",
    "print(min(lengths),max(lengths))\n",
    "plt.hist(lengths,bins=20)\n",
    "plt.show()"
   ]
  },
  {
   "cell_type": "markdown",
   "metadata": {},
   "source": [
    "## Filtrado de longitudes con menos de 10 secuencias"
   ]
  },
  {
   "cell_type": "code",
   "execution_count": 2,
   "metadata": {
    "collapsed": false
   },
   "outputs": [
    {
     "name": "stdout",
     "output_type": "stream",
     "text": [
      "39 2354\n",
      "47 266\n"
     ]
    }
   ],
   "source": [
    "from Bio import SeqIO\n",
    "import matplotlib.pyplot as plt\n",
    "from collections import Counter\n",
    "plt.style.use('ggplot')\n",
    "\n",
    "filename = 'seqs/hairpin.fa'\n",
    "lengths=[]\n",
    "for record in SeqIO.parse(filename, \"fasta\"):\n",
    "    lengths.append(len(str(record.seq)))\n",
    "counter = Counter(lengths)\n",
    "#print(counter)\n",
    "new_lengths = [val for sublist in [[key]*value for key,value in counter.items() if value >= 10 ] for val in sublist]\n",
    "#print(new_lengths)\n",
    "print(min(lengths),max(lengths))\n",
    "print(min(new_lengths),max(new_lengths))\n",
    "plt.hist(new_lengths)\n",
    "plt.show()"
   ]
  },
  {
   "cell_type": "markdown",
   "metadata": {},
   "source": [
    "# Actividad: Métricas de composición de las secuencias"
   ]
  },
  {
   "cell_type": "code",
   "execution_count": 3,
   "metadata": {
    "collapsed": false
   },
   "outputs": [
    {
     "name": "stdout",
     "output_type": "stream",
     "text": [
      "[0.24412334466475141, 0.29007069214916792, 0.21906986182027996, 0.24665485215871474, 0.46572471397899473]\n",
      "[0.061336117748568932, 0.061835336577462249, 0.058757511608011424, 0.058989038690161789, 0.1028154277181524]\n"
     ]
    }
   ],
   "source": [
    "from Bio import SeqIO\n",
    "import matplotlib.pyplot as plt\n",
    "import numpy as np\n",
    "\n",
    "plt.style.use('ggplot')\n",
    "\n",
    "filename = 'seqs/hairpin.fa'\n",
    "lengths=[]\n",
    "A = []\n",
    "U = []\n",
    "C = []\n",
    "G = []\n",
    "GC = []\n",
    "for record in SeqIO.parse(filename, \"fasta\"):    \n",
    "    length = len(str(record.seq))\n",
    "    A.append(record.seq.count(\"A\")/length)\n",
    "    U.append(record.seq.count(\"U\")/length)\n",
    "    C.append(record.seq.count(\"C\")/length)\n",
    "    G.append(record.seq.count(\"G\")/length)\n",
    "    GC.append( (record.seq.count(\"G\")+record.seq.count(\"C\"))/length)    \n",
    "averages = [np.mean(x) for x in [A,U,C,G,GC]]\n",
    "stds = [np.std(x) for x in [A,U,C,G,GC]]\n",
    "print(averages)\n",
    "print(stds)\n",
    "\n",
    "fig, ax = plt.subplots()\n",
    "N = 5\n",
    "index = np.arange(N)\n",
    "width = .4 \n",
    "opacity = 0.4\n",
    "error_config ={'ecolor': '0.3'}\n",
    "\n",
    "rects1 = plt.bar(index, averages, width, \n",
    "                alpha=opacity,\n",
    "                color='b', \n",
    "                yerr=stds,\n",
    "                error_kw=error_config,\n",
    "                label=\"Todas\")\n",
    "\n",
    "ax.set_ylabel('Valor')\n",
    "ax.set_title('Composición de las secuencias')\n",
    "ax.set_xticks(index+width/2)\n",
    "ax.set_xticklabels(('A', 'U', 'C', 'G', 'GC'))\n",
    "\n",
    "plt.legend(loc='best')\n",
    "plt.tight_layout()\n",
    "plt.show()"
   ]
  },
  {
   "cell_type": "markdown",
   "metadata": {},
   "source": [
    "# Actividad: Métricas de composición de las secuencias por especie"
   ]
  },
  {
   "cell_type": "code",
   "execution_count": 5,
   "metadata": {
    "collapsed": true
   },
   "outputs": [],
   "source": [
    "def get_mirbase_record_species(record):    \n",
    "    return \" \".join(record.description.split()[2:4])"
   ]
  },
  {
   "cell_type": "code",
   "execution_count": 6,
   "metadata": {
    "collapsed": false
   },
   "outputs": [],
   "source": [
    "from Bio import SeqIO\n",
    "import matplotlib.pyplot as plt\n",
    "import numpy as np\n",
    "import matplotlib.colors as colors\n",
    "import matplotlib.cm as cmx\n",
    "plt.style.use('ggplot')\n",
    "\n",
    "filename = 'seqs/hairpin.fa'\n",
    "lengths=[]\n",
    "A = []\n",
    "U = []\n",
    "C = []\n",
    "G = []\n",
    "GC = []\n",
    "result = {}\n",
    "for record in SeqIO.parse(filename, \"fasta\"):    \n",
    "    length = len(str(record.seq))\n",
    "    species = get_mirbase_record_species(record)\n",
    "    if species not in result:\n",
    "        result[species] = {}\n",
    "        result[species]['A'] = []\n",
    "        result[species]['U'] = []\n",
    "        result[species]['C'] = []\n",
    "        result[species]['G'] = []\n",
    "        result[species]['GC'] = []\n",
    "    result[species]['A'].append(record.seq.count(\"A\")/length)\n",
    "    result[species]['U'].append(record.seq.count(\"U\")/length)\n",
    "    result[species]['C'].append(record.seq.count(\"C\")/length)\n",
    "    result[species]['G'].append(record.seq.count(\"G\")/length)\n",
    "    result[species]['GC'].append( (record.seq.count(\"G\")+record.seq.count(\"C\"))/length)    \n",
    "\n",
    "\n",
    "#print(len(result.keys()),result.keys())\n",
    "#print(sorted([(key,len(result[key]['A']))for key in result.keys()],key=lambda x:-x[1]))\n",
    "\n",
    "interesting_species = ['Homo sapiens',\n",
    "                       'Gorilla gorilla',\n",
    "                       'Mus musculus',\n",
    "                       'Bos taurus',\n",
    "                       'Equus caballus',                       \n",
    "                       'Drosophila willistoni',\n",
    "                       'Drosophila melanogaster',\n",
    "                       'Caenorhabditis elegans',\n",
    "                       'Caenorhabditis brenneri'\n",
    "                      ]\n",
    "\n",
    "fig, ax = plt.subplots()\n",
    "N = 5\n",
    "index = np.arange(N)\n",
    "width = .9/len(interesting_species)\n",
    "opacity = 0.8\n",
    "error_config ={'ecolor': '0.3'}\n",
    "scalarMap = cmx.ScalarMappable(norm=colors.Normalize(vmin=0, vmax=len(interesting_species)), \n",
    "                               cmap=plt.get_cmap('jet'))\n",
    "\n",
    "for idx,species in enumerate(interesting_species):    \n",
    "    averages = [np.mean(x) for x in [result[species]['A'],\n",
    "                                     result[species]['U'],\n",
    "                                     result[species]['C'],\n",
    "                                     result[species]['G'],\n",
    "                                     result[species]['GC']]]\n",
    "    stds = [np.std(x) for x in [result[species]['A'],\n",
    "                                     result[species]['U'],\n",
    "                                     result[species]['C'],\n",
    "                                     result[species]['G'],\n",
    "                                     result[species]['GC']]]\n",
    "    #print(species)\n",
    "    #print(averages)\n",
    "    #print(stds)\n",
    "\n",
    "    rects1 = plt.bar(index + (idx*width), averages, width, \n",
    "                    alpha=opacity,\n",
    "                    color=scalarMap.to_rgba(idx), \n",
    "                    yerr=stds,\n",
    "                    error_kw=error_config,\n",
    "                    label=species)\n",
    "\n",
    "ax.set_ylabel('Valor')\n",
    "ax.set_xlabel('Medida')\n",
    "ax.set_title('Composición de secuencias de miRNA')\n",
    "ax.set_xticks(index+.5)\n",
    "ax.set_xticklabels(('A', 'U', 'C', 'G', 'GC'))\n",
    "\n",
    "plt.legend(loc='best')\n",
    "plt.tight_layout()\n",
    "plt.show()"
   ]
  },
  {
   "cell_type": "code",
   "execution_count": null,
   "metadata": {
    "collapsed": true
   },
   "outputs": [],
   "source": []
  }
 ],
 "metadata": {
  "kernelspec": {
   "display_name": "Python 3",
   "language": "python",
   "name": "python3"
  },
  "language_info": {
   "codemirror_mode": {
    "name": "ipython",
    "version": 3
   },
   "file_extension": ".py",
   "mimetype": "text/x-python",
   "name": "python",
   "nbconvert_exporter": "python",
   "pygments_lexer": "ipython3",
   "version": "3.5.1"
  }
 },
 "nbformat": 4,
 "nbformat_minor": 0
}
