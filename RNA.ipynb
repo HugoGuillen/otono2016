{
 "cells": [
  {
   "cell_type": "markdown",
   "metadata": {},
   "source": [
    "# Brevísima introducción a Jupyter\n",
    "\n",
    "https://blog.dominodatalab.com/lesser-known-ways-of-using-notebooks/"
   ]
  },
  {
   "cell_type": "markdown",
   "metadata": {},
   "source": [
    "$$\\sqrt{b^2-4ac}$$"
   ]
  },
  {
   "cell_type": "code",
   "execution_count": 9,
   "metadata": {
    "collapsed": false
   },
   "outputs": [
    {
     "data": {
      "application/json": {
       "cell": {
        "!": "OSMagics",
        "HTML": "Other",
        "SVG": "Other",
        "bash": "Other",
        "capture": "ExecutionMagics",
        "cmd": "Other",
        "debug": "ExecutionMagics",
        "file": "Other",
        "html": "DisplayMagics",
        "javascript": "DisplayMagics",
        "latex": "DisplayMagics",
        "perl": "Other",
        "prun": "ExecutionMagics",
        "pypy": "Other",
        "python": "Other",
        "python2": "Other",
        "python3": "Other",
        "ruby": "Other",
        "script": "ScriptMagics",
        "sh": "Other",
        "svg": "DisplayMagics",
        "sx": "OSMagics",
        "system": "OSMagics",
        "time": "ExecutionMagics",
        "timeit": "ExecutionMagics",
        "writefile": "OSMagics"
       },
       "line": {
        "alias": "OSMagics",
        "alias_magic": "BasicMagics",
        "autocall": "AutoMagics",
        "automagic": "AutoMagics",
        "autosave": "KernelMagics",
        "bookmark": "OSMagics",
        "cd": "OSMagics",
        "clear": "KernelMagics",
        "cls": "KernelMagics",
        "colors": "BasicMagics",
        "config": "ConfigMagics",
        "connect_info": "KernelMagics",
        "copy": "Other",
        "ddir": "Other",
        "debug": "ExecutionMagics",
        "dhist": "OSMagics",
        "dirs": "OSMagics",
        "doctest_mode": "BasicMagics",
        "echo": "Other",
        "ed": "Other",
        "edit": "KernelMagics",
        "env": "OSMagics",
        "gui": "BasicMagics",
        "hist": "Other",
        "history": "HistoryMagics",
        "install_default_config": "DeprecatedMagics",
        "install_ext": "ExtensionMagics",
        "install_profiles": "DeprecatedMagics",
        "killbgscripts": "ScriptMagics",
        "ldir": "Other",
        "less": "KernelMagics",
        "load": "CodeMagics",
        "load_ext": "ExtensionMagics",
        "loadpy": "CodeMagics",
        "logoff": "LoggingMagics",
        "logon": "LoggingMagics",
        "logstart": "LoggingMagics",
        "logstate": "LoggingMagics",
        "logstop": "LoggingMagics",
        "ls": "Other",
        "lsmagic": "BasicMagics",
        "macro": "ExecutionMagics",
        "magic": "BasicMagics",
        "matplotlib": "PylabMagics",
        "mkdir": "Other",
        "more": "KernelMagics",
        "notebook": "BasicMagics",
        "page": "BasicMagics",
        "pastebin": "CodeMagics",
        "pdb": "ExecutionMagics",
        "pdef": "NamespaceMagics",
        "pdoc": "NamespaceMagics",
        "pfile": "NamespaceMagics",
        "pinfo": "NamespaceMagics",
        "pinfo2": "NamespaceMagics",
        "popd": "OSMagics",
        "pprint": "BasicMagics",
        "precision": "BasicMagics",
        "profile": "BasicMagics",
        "prun": "ExecutionMagics",
        "psearch": "NamespaceMagics",
        "psource": "NamespaceMagics",
        "pushd": "OSMagics",
        "pwd": "OSMagics",
        "pycat": "OSMagics",
        "pylab": "PylabMagics",
        "qtconsole": "KernelMagics",
        "quickref": "BasicMagics",
        "recall": "HistoryMagics",
        "rehashx": "OSMagics",
        "reload_ext": "ExtensionMagics",
        "ren": "Other",
        "rep": "Other",
        "rerun": "HistoryMagics",
        "reset": "NamespaceMagics",
        "reset_selective": "NamespaceMagics",
        "rmdir": "Other",
        "run": "ExecutionMagics",
        "save": "CodeMagics",
        "sc": "OSMagics",
        "set_env": "OSMagics",
        "store": "StoreMagics",
        "sx": "OSMagics",
        "system": "OSMagics",
        "tb": "ExecutionMagics",
        "time": "ExecutionMagics",
        "timeit": "ExecutionMagics",
        "unalias": "OSMagics",
        "unload_ext": "ExtensionMagics",
        "who": "NamespaceMagics",
        "who_ls": "NamespaceMagics",
        "whos": "NamespaceMagics",
        "xdel": "NamespaceMagics",
        "xmode": "BasicMagics"
       }
      },
      "text/plain": [
       "Available line magics:\n",
       "%alias  %alias_magic  %autocall  %automagic  %autosave  %bookmark  %cd  %clear  %cls  %colors  %config  %connect_info  %copy  %ddir  %debug  %dhist  %dirs  %doctest_mode  %echo  %ed  %edit  %env  %gui  %hist  %history  %install_default_config  %install_ext  %install_profiles  %killbgscripts  %ldir  %less  %load  %load_ext  %loadpy  %logoff  %logon  %logstart  %logstate  %logstop  %ls  %lsmagic  %macro  %magic  %matplotlib  %mkdir  %more  %notebook  %page  %pastebin  %pdb  %pdef  %pdoc  %pfile  %pinfo  %pinfo2  %popd  %pprint  %precision  %profile  %prun  %psearch  %psource  %pushd  %pwd  %pycat  %pylab  %qtconsole  %quickref  %recall  %rehashx  %reload_ext  %ren  %rep  %rerun  %reset  %reset_selective  %rmdir  %run  %save  %sc  %set_env  %store  %sx  %system  %tb  %time  %timeit  %unalias  %unload_ext  %who  %who_ls  %whos  %xdel  %xmode\n",
       "\n",
       "Available cell magics:\n",
       "%%!  %%HTML  %%SVG  %%bash  %%capture  %%cmd  %%debug  %%file  %%html  %%javascript  %%latex  %%perl  %%prun  %%pypy  %%python  %%python2  %%python3  %%ruby  %%script  %%sh  %%svg  %%sx  %%system  %%time  %%timeit  %%writefile\n",
       "\n",
       "Automagic is ON, % prefix IS NOT needed for line magics."
      ]
     },
     "execution_count": 9,
     "metadata": {},
     "output_type": "execute_result"
    }
   ],
   "source": [
    "% lsmagic"
   ]
  },
  {
   "cell_type": "markdown",
   "metadata": {},
   "source": [
    "# Cálculo de estructura secundaria de ARN usando RNAfold"
   ]
  },
  {
   "cell_type": "markdown",
   "metadata": {},
   "source": [
    "## Estructura de xbo-mir-92a MI0017684"
   ]
  },
  {
   "cell_type": "code",
   "execution_count": 22,
   "metadata": {
    "collapsed": false
   },
   "outputs": [
    {
     "name": "stdout",
     "output_type": "stream",
     "text": [
      "Microsoft Windows [Version 6.1.7601]\r\n",
      "Copyright (c) 2009 Microsoft Corporation.  All rights reserved.\r\n",
      "\r\n",
      "C:\\Users\\BiocomH\\Dropbox\\DOCTORADO CICESE\\00 Proyectos\\2016 Escuela Oto¤o CC>RNAfold \n",
      "CGGUGGUUUGUCGGGCCAGGUCGGUGCCAUGUUCUGUUAGAUAGUGUAAUAUUGCACUCGUCCCGGCCUGACAAAACACACG\r\n",
      "(((((..((((((((((.((.((((((.(((((((((...))))...))))).)))).)).)).))))))))))..))).)) (-38.40)\r\n",
      "\r\n",
      "C:\\Users\\BiocomH\\Dropbox\\DOCTORADO CICESE\\00 Proyectos\\2016 Escuela Oto¤o CC>"
     ]
    }
   ],
   "source": [
    "%%cmd\n",
    "RNAfold \n",
    "CGGUGGUUUGUCGGGCCAGGUCGGUGCCAUGUUCUGUUAGAUAGUGUAAUAUUGCACUCGUCCCGGCCUGACAAAACACACG"
   ]
  },
  {
   "cell_type": "markdown",
   "metadata": {},
   "source": [
    "## Estructura de Precisión Esperada Máxima (MEA) y función de partición de xbo-mir-92a MI0017684"
   ]
  },
  {
   "cell_type": "code",
   "execution_count": 21,
   "metadata": {
    "collapsed": false
   },
   "outputs": [
    {
     "name": "stdout",
     "output_type": "stream",
     "text": [
      "Microsoft Windows [Version 6.1.7601]\r\n",
      "Copyright (c) 2009 Microsoft Corporation.  All rights reserved.\r\n",
      "\r\n",
      "C:\\Users\\BiocomH\\Dropbox\\DOCTORADO CICESE\\00 Proyectos\\2016 Escuela Oto¤o CC>RNAfold --MEA -d2 â€“p\n",
      "CGGUGGUUUGUCGGGCCAGGUCGGUGCCAUGUUCUGUUAGAUAGUGUAAUAUUGCACUCGUCCCGGCCUGACAAAACACACG\r\n",
      "(((((..((((((((((.((.((((((.(((((((((...))))...))))).)))).)).)).))))))))))..))).)) (-38.40)\r\n",
      "{{(((.,((((((((((.((.((((((.((((((({{...}}})...))))).)))).)).)).)))))))))),.))).)} [-39.69]\r\n",
      "(((((..((((((((((.((.((((((.(((((((((...))))...))))).)))).)).)).))))))))))..))).)) {-38.40 d=6.12}\r\n",
      "(((((..((((((((((.((.((((((.(((((((((...))))...))))).)))).)).)).))))))))))..))).)) {-38.40 MEA=71.98}\r\n",
      " frequency of mfe structure in ensemble 0.123879; ensemble diversity 9.03  \r\n",
      "\r\n",
      "C:\\Users\\BiocomH\\Dropbox\\DOCTORADO CICESE\\00 Proyectos\\2016 Escuela Oto¤o CC>"
     ]
    }
   ],
   "source": [
    "%%cmd\n",
    "RNAfold --MEA -d2 –p\n",
    "CGGUGGUUUGUCGGGCCAGGUCGGUGCCAUGUUCUGUUAGAUAGUGUAAUAUUGCACUCGUCCCGGCCUGACAAAACACACG"
   ]
  },
  {
   "cell_type": "markdown",
   "metadata": {},
   "source": [
    "# Llamando RNAfold con Python"
   ]
  },
  {
   "cell_type": "code",
   "execution_count": 23,
   "metadata": {
    "collapsed": false
   },
   "outputs": [
    {
     "name": "stdout",
     "output_type": "stream",
     "text": [
      "UGGGAUGAGGUAGUAGGUUGUAUAGUUUUAGGGUCACACCCACCACUGGGAGAUAACUAUACAAUCUACUGUCUUUCCUA\n",
      "(((((.(((((((((((((((((((((.....(((...((((....)))).))))))))))))))))))))))))))))) (-34.20)\n",
      "\n"
     ]
    }
   ],
   "source": [
    "import subprocess as sub\n",
    "seq = 'UGGGAUGAGGUAGUAGGUUGUAUAGUUUUAGGGUCACACCCACCACUGGGAGAUAACUAUACAAUCUACUGUCUUUCCUA'\n",
    "stream = sub.Popen('RNAfold', shell=True, stdin=sub.PIPE, stdout=sub.PIPE, stderr=sub.STDOUT,universal_newlines=True)\n",
    "stdout_value,stdout_err = stream.communicate(input=seq)\n",
    "print(stdout_value)"
   ]
  },
  {
   "cell_type": "markdown",
   "metadata": {},
   "source": [
    "## Obteniendo los valores de la llamada"
   ]
  },
  {
   "cell_type": "code",
   "execution_count": 27,
   "metadata": {
    "collapsed": false
   },
   "outputs": [
    {
     "name": "stdout",
     "output_type": "stream",
     "text": [
      "Secuencia: UGGGAUGAGGUAGUAGGUUGUAUAGUUUUAGGGUCACACCCACCACUGGGAGAUAACUAUACAAUCUACUGUCUUUCCUA\n",
      "Estructura: (((((.(((((((((((((((((((((.....(((...((((....)))).)))))))))))))))))))))))))))))\n",
      "Energía: -34.2\n"
     ]
    }
   ],
   "source": [
    "partial_result = stdout_value.split(\"\\n\")[1]\n",
    "structure = partial_result[:len(seq)]\n",
    "energy = float(partial_result[len(seq)+2:-1])\n",
    "print(\"Secuencia:\",seq)\n",
    "print(\"Estructura:\",structure)\n",
    "print(\"Energía:\",energy)"
   ]
  },
  {
   "cell_type": "markdown",
   "metadata": {},
   "source": [
    "## Función para envolver a RNAfold"
   ]
  },
  {
   "cell_type": "code",
   "execution_count": 28,
   "metadata": {
    "collapsed": true
   },
   "outputs": [],
   "source": [
    "def rnafold(seq):\n",
    "    stream = sub.Popen('RNAfold', shell=True, stdin=sub.PIPE, stdout=sub.PIPE, stderr=sub.STDOUT,universal_newlines=True)\n",
    "    stdout_value,stdout_err = stream.communicate(input=seq)\n",
    "    partial_result = stdout_value.split(\"\\n\")[1]\n",
    "    structure = partial_result[:len(seq)]\n",
    "    energy = float(partial_result[len(seq)+2:-1])\n",
    "    return structure,energy"
   ]
  },
  {
   "cell_type": "markdown",
   "metadata": {},
   "source": [
    "# Llamando VARNA desde línea de comandos"
   ]
  },
  {
   "cell_type": "code",
   "execution_count": 37,
   "metadata": {
    "collapsed": false,
    "scrolled": true
   },
   "outputs": [
    {
     "name": "stdout",
     "output_type": "stream",
     "text": [
      "Microsoft Windows [Version 6.1.7601]\r\n",
      "Copyright (c) 2009 Microsoft Corporation.  All rights reserved.\r\n",
      "\r\n",
      "C:\\Users\\BiocomH\\Dropbox\\DOCTORADO CICESE\\00 Proyectos\\2016 Escuela Oto¤o CC>java -cp \"C:\\\\Users\\\\BiocomH\\\\Downloads\\\\SOFTWARE ESCUELA OTONO HUGO\\\\VARNAv3-93.jar\" fr.orsay.lri.varna.applications.VARNAcmd -sequenceDBN UGGGAUGAGGUAGUAGGUUGUAUAGUUUUAGGGUCACACCCACCACUGGGAGAUAACUAUACAAUCUACUGUCUUUCCUA -structureDBN (((((.(((((((((((((((((((((.....(((...((((....)))).))))))))))))))))))))))))))))) -algorithm naview -o \"varnatest.png\" -baseName #FFFFFF -title \"Inserte nombre aquÃ­\" -titleSize 12  -highlightRegion \"5-7\"\n",
      "\r\n",
      "C:\\Users\\BiocomH\\Dropbox\\DOCTORADO CICESE\\00 Proyectos\\2016 Escuela Oto¤o CC>"
     ]
    },
    {
     "name": "stderr",
     "output_type": "stream",
     "text": [
      "Output file: varnatest.png\r\n",
      "\r\n"
     ]
    }
   ],
   "source": [
    "%%cmd\n",
    "java -cp \"C:\\\\Users\\\\BiocomH\\\\Downloads\\\\SOFTWARE ESCUELA OTONO HUGO\\\\VARNAv3-93.jar\" fr.orsay.lri.varna.applications.VARNAcmd -sequenceDBN UGGGAUGAGGUAGUAGGUUGUAUAGUUUUAGGGUCACACCCACCACUGGGAGAUAACUAUACAAUCUACUGUCUUUCCUA -structureDBN (((((.(((((((((((((((((((((.....(((...((((....)))).))))))))))))))))))))))))))))) -algorithm naview -o \"varnatest.png\" -baseName #FFFFFF -title \"Inserte nombre aquí\" -titleSize 12  -highlightRegion \"5-7\""
   ]
  },
  {
   "cell_type": "markdown",
   "metadata": {},
   "source": [
    "## Automatizando la llamada a VARNA"
   ]
  },
  {
   "cell_type": "code",
   "execution_count": 31,
   "metadata": {
    "collapsed": false
   },
   "outputs": [
    {
     "data": {
      "text/plain": [
       "CompletedProcess(args='java -cp \"C:\\\\Users\\\\BiocomH\\\\Downloads\\\\SOFTWARE ESCUELA OTONO HUGO\\\\VARNAv3-93.jar\" fr.orsay.lri.varna.applications.VARNAcmd -sequenceDBN UGGGAUGAGGUAGUAGGUUGUAUAGUUUUAGGGUCACACCCACCACUGGGAGAUAACUAUACAAUCUACUGUCUUUCCUA -structureDBN (((((.(((((((((((((((((((((.....(((...((((....)))).))))))))))))))))))))))))))))) -algorithm naview -o \"varnatest.png\" -baseName #FFFFFF -title \"jeje\" -titleSize 12  -highlightRegion \"5-7\"', returncode=0)"
      ]
     },
     "execution_count": 31,
     "metadata": {},
     "output_type": "execute_result"
    }
   ],
   "source": [
    "import subprocess as sub\n",
    "output='varnatest.png'\n",
    "varna = 'C:\\\\Users\\\\BiocomH\\\\Downloads\\\\SOFTWARE ESCUELA OTONO HUGO\\\\VARNAv3-93.jar'\n",
    "\n",
    "call = 'java -cp \"'+varna+'\" fr.orsay.lri.varna.applications.VARNAcmd -sequenceDBN '+seq+' -structureDBN '+structure+' -algorithm naview -o \"'+output+'\" -baseName #FFFFFF -title \"jeje\" -titleSize 12  -highlightRegion \"5-7\"'\n",
    "sub.run(call)"
   ]
  },
  {
   "cell_type": "markdown",
   "metadata": {},
   "source": [
    "# Función para envolver VARNA"
   ]
  },
  {
   "cell_type": "code",
   "execution_count": 40,
   "metadata": {
    "collapsed": true
   },
   "outputs": [],
   "source": [
    "varna_path = 'C:\\\\Users\\\\BiocomH\\\\Downloads\\\\SOFTWARE ESCUELA OTONO HUGO\\\\VARNAv3-93.jar'\n",
    "\n",
    "def varna(seq,region,output,path=varna_path):\n",
    "    call = 'java -cp \"'+path+'\" fr.orsay.lri.varna.applications.VARNAcmd -sequenceDBN '+seq+' -structureDBN '+structure+' -algorithm naview -o \"'+output+'\" -baseName #FFFFFF -title \"Inserte nombre aqui\" -titleSize 12  -highlightRegion \"'+region+'\"'\n",
    "    print(call)\n",
    "    sub.run(call)"
   ]
  },
  {
   "cell_type": "code",
   "execution_count": 41,
   "metadata": {
    "collapsed": false
   },
   "outputs": [
    {
     "name": "stdout",
     "output_type": "stream",
     "text": [
      "java -cp \"C:\\Users\\BiocomH\\Downloads\\SOFTWARE ESCUELA OTONO HUGO\\VARNAv3-93.jar\" fr.orsay.lri.varna.applications.VARNAcmd -sequenceDBN UGGGAUGAGGUAGUAGGUUGUAUAGUUUUAGGGUCACACCCACCACUGGGAGAUAACUAUACAAUCUACUGUCUUUCCUA -structureDBN (((((.(((((((((((((((((((((.....(((...((((....)))).))))))))))))))))))))))))))))) -algorithm naview -o \"testtest.png\" -baseName #FFFFFF -title \"Inserte nombre aqui\" -titleSize 12  -highlightRegion \"4-7;10-14\"\n"
     ]
    }
   ],
   "source": [
    "varna('UGGGAUGAGGUAGUAGGUUGUAUAGUUUUAGGGUCACACCCACCACUGGGAGAUAACUAUACAAUCUACUGUCUUUCCUA','4-7;10-14','testtest.png')"
   ]
  },
  {
   "cell_type": "code",
   "execution_count": null,
   "metadata": {
    "collapsed": true
   },
   "outputs": [],
   "source": []
  }
 ],
 "metadata": {
  "kernelspec": {
   "display_name": "Python 3",
   "language": "python",
   "name": "python3"
  },
  "language_info": {
   "codemirror_mode": {
    "name": "ipython",
    "version": 3
   },
   "file_extension": ".py",
   "mimetype": "text/x-python",
   "name": "python",
   "nbconvert_exporter": "python",
   "pygments_lexer": "ipython3",
   "version": "3.5.1"
  }
 },
 "nbformat": 4,
 "nbformat_minor": 0
}
